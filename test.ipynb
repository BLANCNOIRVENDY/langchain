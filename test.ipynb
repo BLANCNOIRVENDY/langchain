{
 "cells": [
  {
   "cell_type": "code",
   "execution_count": 1,
   "metadata": {},
   "outputs": [
    {
     "data": {
      "text/plain": [
       "[[HumanMessage(content='Hello! d', additional_kwargs={})]]"
      ]
     },
     "execution_count": 1,
     "metadata": {},
     "output_type": "execute_result"
    }
   ],
   "source": [
    "from langchain.prompts.chat import get_size_capped_message\n",
    "from langchain.prompts import HumanMessagePromptTemplate\n",
    "\n",
    "message = HumanMessagePromptTemplate.from_template(\"Hello! {input}\")\n",
    "get_size_capped_message(message=message, size=8, **{'input':'david'})\n"
   ]
  },
  {
   "cell_type": "code",
   "execution_count": 1,
   "metadata": {},
   "outputs": [
    {
     "name": "stdout",
     "output_type": "stream",
     "text": [
      "{'input', 'history'}, [(SystemMessage(content='You are helpful and intelligent being that help humans to solve their problems. the qualities of top priority you should follow are \\n- Accuracy\\n- Adaptability\\n- Helpful\\n- Reliability\\n- Harmlessness\\n- Honesty\\n', additional_kwargs={}), None), (MessagesPlaceholder(variable_name='history'), 1.0), (HumanMessagePromptTemplate(prompt=PromptTemplate(input_variables=['input'], output_parser=None, partial_variables={}, template='{input}', template_format='f-string', validate_template=True), additional_kwargs={}), None)]\n",
      "message size : 3\n",
      "abs message : content='You are helpful and intelligent being that help humans to solve their problems. the qualities of top priority you should follow are \\n- Accuracy\\n- Adaptability\\n- Helpful\\n- Reliability\\n- Harmlessness\\n- Honesty\\n' additional_kwargs={}\n",
      "BaseMessage size capped: system / None\n",
      "BaseMessagePromptTemplate size capped: ['history'] / 3879\n",
      "BaseMessage size capped: human / 3879\n",
      "truncated : 3872 = 24\n",
      "BaseMessage size capped: ai / 3847\n",
      "truncated : 3843 = 695\n",
      "BaseMessage size capped: human / 3147\n",
      "truncated : 3140 = 24\n",
      "BaseMessage size capped: ai / 3115\n",
      "truncated : 3111 = 695\n",
      "BaseMessage size capped: human / 2415\n",
      "truncated : 2408 = 24\n",
      "BaseMessage size capped: ai / 2383\n",
      "truncated : 2379 = 695\n",
      "BaseMessage size capped: human / 1683\n",
      "truncated : 1676 = 24\n",
      "BaseMessage size capped: ai / 1651\n",
      "truncated : 1647 = 695\n",
      "BaseMessage size capped: human / 951\n",
      "truncated : 944 = 24\n",
      "BaseMessage size capped: ai / 919\n",
      "truncated : 915 = 695\n",
      "BaseMessage size capped: human / 219\n",
      "truncated : 212 = 24\n",
      "BaseMessage size capped: ai / 187\n",
      "truncated : 183 = 183\n",
      "BaseMessagePromptTemplate size capped: ['input'] / None\n",
      "[SystemMessage(content='You are helpful and intelligent being that help humans to solve their problems. the qualities of top priority you should follow are \\n- Accuracy\\n- Adaptability\\n- Helpful\\n- Reliability\\n- Harmlessness\\n- Honesty\\n', additional_kwargs={}), HumanMessage(content='Who is sakamoto ryuichi?', additional_kwargs={}), AIMessage(content='\\nRyuichi Sakamoto is a Japanese musician, composer, and actor. He was born on January 17, 1952, in Tokyo, Japan. Sakamoto began his career as a member of the electronic music group Yellow Magic Orchestra in the late 1970s. He is known for his innovative music compositions that blend electronic sounds with traditional Japanese music, as well as his contributions to the film industry as a film composer. Some of Sakamoto\\'s notable works include the scores for the movies \"The Last Emperor,\" \"Merry Christmas, Mr. Lawrence,\" and \"The Revenant.\" Sakamoto has won numerous awards for his work over the years, including an Academy Award, two Golden Globe Awards, a Grammy Award, and a BAFTA Award.\\n', additional_kwargs={}), HumanMessage(content='Who is sakamoto ryuichi?', additional_kwargs={}), AIMessage(content='\\nRyuichi Sakamoto is a Japanese musician, composer, and actor. He was born on January 17, 1952, in Tokyo, Japan. Sakamoto began his career as a member of the electronic music group Yellow Magic Orchestra in the late 1970s. He is known for his innovative music compositions that blend electronic sounds with traditional Japanese music, as well as his contributions to the film industry as a film composer. Some of Sakamoto\\'s notable works include the scores for the movies \"The Last Emperor,\" \"Merry Christmas, Mr. Lawrence,\" and \"The Revenant.\" Sakamoto has won numerous awards for his work over the years, including an Academy Award, two Golden Globe Awards, a Grammy Award, and a BAFTA Award.\\n', additional_kwargs={}), HumanMessage(content='Who is sakamoto ryuichi?', additional_kwargs={}), AIMessage(content='\\nRyuichi Sakamoto is a Japanese musician, composer, and actor. He was born on January 17, 1952, in Tokyo, Japan. Sakamoto began his career as a member of the electronic music group Yellow Magic Orchestra in the late 1970s. He is known for his innovative music compositions that blend electronic sounds with traditional Japanese music, as well as his contributions to the film industry as a film composer. Some of Sakamoto\\'s notable works include the scores for the movies \"The Last Emperor,\" \"Merry Christmas, Mr. Lawrence,\" and \"The Revenant.\" Sakamoto has won numerous awards for his work over the years, including an Academy Award, two Golden Globe Awards, a Grammy Award, and a BAFTA Award.\\n', additional_kwargs={}), HumanMessage(content='Who is sakamoto ryuichi?', additional_kwargs={}), AIMessage(content='\\nRyuichi Sakamoto is a Japanese musician, composer, and actor. He was born on January 17, 1952, in Tokyo, Japan. Sakamoto began his career as a member of the electronic music group Yellow Magic Orchestra in the late 1970s. He is known for his innovative music compositions that blend electronic sounds with traditional Japanese music, as well as his contributions to the film industry as a film composer. Some of Sakamoto\\'s notable works include the scores for the movies \"The Last Emperor,\" \"Merry Christmas, Mr. Lawrence,\" and \"The Revenant.\" Sakamoto has won numerous awards for his work over the years, including an Academy Award, two Golden Globe Awards, a Grammy Award, and a BAFTA Award.\\n', additional_kwargs={}), HumanMessage(content='Who is sakamoto ryuichi?', additional_kwargs={}), AIMessage(content='\\nRyuichi Sakamoto is a Japanese musician, composer, and actor. He was born on January 17, 1952, in Tokyo, Japan. Sakamoto began his career as a member of the electronic music group Yellow Magic Orchestra in the late 1970s. He is known for his innovative music compositions that blend electronic sounds with traditional Japanese music, as well as his contributions to the film industry as a film composer. Some of Sakamoto\\'s notable works include the scores for the movies \"The Last Emperor,\" \"Merry Christmas, Mr. Lawrence,\" and \"The Revenant.\" Sakamoto has won numerous awards for his work over the years, including an Academy Award, two Golden Globe Awards, a Grammy Award, and a BAFTA Award.\\n', additional_kwargs={}), HumanMessage(content='Who is sakamoto ryuichi?', additional_kwargs={}), AIMessage(content='\\nRyuichi Sakamoto is a Japanese musician, composer, and actor. He was born on January 17, 1952, in Tokyo, Japan. Sakamoto began his career as a member of the electronic music group Ye', additional_kwargs={}), HumanMessage(content='What is Large Language Model?', additional_kwargs={})]\n",
      "4133\n"
     ]
    }
   ],
   "source": [
    "from langchain.prompts.chat import SizedChatPromptTemplate, SystemMessage, MessagesPlaceholder, HumanMessagePromptTemplate, get_buffer_string, ChatPromptTemplate\n",
    "from langchain.memory.chat_memory import ChatMessageHistory\n",
    "SYSTEM_RULE = \"\"\"You are helpful and intelligent being that help humans to solve their problems. the qualities of top priority you should follow are \n",
    "- Accuracy\n",
    "- Adaptability\n",
    "- Helpful\n",
    "- Reliability\n",
    "- Harmlessness\n",
    "- Honesty\n",
    "\"\"\"\n",
    "\n",
    "USER_MESSAGE = \"Who is sakamoto ryuichi?\"\n",
    "BOT_MESSAGE = \"\"\"\n",
    "Ryuichi Sakamoto is a Japanese musician, composer, and actor. He was born on January 17, 1952, in Tokyo, Japan. Sakamoto began his career as a member of the electronic music group Yellow Magic Orchestra in the late 1970s. He is known for his innovative music compositions that blend electronic sounds with traditional Japanese music, as well as his contributions to the film industry as a film composer. Some of Sakamoto's notable works include the scores for the movies \"The Last Emperor,\" \"Merry Christmas, Mr. Lawrence,\" and \"The Revenant.\" Sakamoto has won numerous awards for his work over the years, including an Academy Award, two Golden Globe Awards, a Grammy Award, and a BAFTA Award.\n",
    "\"\"\"\n",
    "\n",
    "\n",
    "history = ChatMessageHistory()\n",
    "for _ in range(10):\n",
    "    history.add_user_message(USER_MESSAGE)\n",
    "    history.add_ai_message(BOT_MESSAGE)\n",
    "    \n",
    "chat_prompt = ChatPromptTemplate.from_messages([\n",
    "    SystemMessage(content=SYSTEM_RULE),\n",
    "    MessagesPlaceholder(variable_name='history'),\n",
    "    HumanMessagePromptTemplate.from_template(\"{input}\")\n",
    "])\n",
    "\n",
    "capped_chat_prompt = SizedChatPromptTemplate.from_messages([\n",
    "    SystemMessage(content=SYSTEM_RULE),\n",
    "    MessagesPlaceholder(variable_name='history'),\n",
    "    HumanMessagePromptTemplate.from_template(\"{input}\")\n",
    "], [None, 1.0, None], 4096)\n",
    "\n",
    "prompt = capped_chat_prompt.format(input=\"What is Large Language Model?\", history=history.messages)\n",
    "print(len(prompt))\n"
   ]
  },
  {
   "cell_type": "code",
   "execution_count": 2,
   "metadata": {},
   "outputs": [
    {
     "data": {
      "text/plain": [
       "3845"
      ]
     },
     "execution_count": 2,
     "metadata": {},
     "output_type": "execute_result"
    }
   ],
   "source": [
    "abs_size = len('Human: What is Large Language Model?') + len(\"\"\"System: You are helpful and intelligent being that help humans to solve their problems. the qualities of top priority you should follow are \n",
    "- Accuracy\n",
    "- Adaptability\n",
    "- Helpful\n",
    "- Reliability\n",
    "- Harmlessness\n",
    "- Honesty\"\"\")\n",
    "\n",
    "4096 - abs_size"
   ]
  }
 ],
 "metadata": {
  "kernelspec": {
   "display_name": "langchain",
   "language": "python",
   "name": "python3"
  },
  "language_info": {
   "codemirror_mode": {
    "name": "ipython",
    "version": 3
   },
   "file_extension": ".py",
   "mimetype": "text/x-python",
   "name": "python",
   "nbconvert_exporter": "python",
   "pygments_lexer": "ipython3",
   "version": "3.9.16"
  },
  "orig_nbformat": 4
 },
 "nbformat": 4,
 "nbformat_minor": 2
}
